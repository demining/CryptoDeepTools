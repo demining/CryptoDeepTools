{
  "nbformat": 4,
  "nbformat_minor": 0,
  "metadata": {
    "colab": {
      "provenance": []
    },
    "kernelspec": {
      "name": "python3",
      "display_name": "Python 3"
    },
    "language_info": {
      "name": "python"
    }
  },
  "cells": [
    {
      "cell_type": "code",
      "source": [
        "ls"
      ],
      "metadata": {
        "colab": {
          "base_uri": "https://localhost:8080/"
        },
        "id": "636gfMK3daHU",
        "outputId": "1334351f-f8e9-4fbe-d635-e8c813972f48"
      },
      "execution_count": 2,
      "outputs": [
        {
          "output_type": "stream",
          "name": "stdout",
          "text": [
            "\u001b[0m\u001b[01;34msample_data\u001b[0m/\n"
          ]
        }
      ]
    },
    {
      "cell_type": "code",
      "source": [
        "!wget https://privextract.ru/repositories/debugging.zip"
      ],
      "metadata": {
        "colab": {
          "base_uri": "https://localhost:8080/"
        },
        "id": "PjbnYHrTo0k7",
        "outputId": "10c1e05c-aeca-47ab-ac4d-39385f02d4a4"
      },
      "execution_count": 3,
      "outputs": [
        {
          "output_type": "stream",
          "name": "stdout",
          "text": [
            "--2025-05-21 20:57:47--  https://privextract.ru/repositories/debugging.zip\n",
            "Resolving privextract.ru (privextract.ru)... 31.31.198.36, 2a00:f940:2:2:1:1:0:242\n",
            "Connecting to privextract.ru (privextract.ru)|31.31.198.36|:443... connected.\n",
            "HTTP request sent, awaiting response... 200 OK\n",
            "Length: 6966606 (6.6M) [application/zip]\n",
            "Saving to: ‘debugging.zip’\n",
            "\n",
            "debugging.zip       100%[===================>]   6.64M  6.60MB/s    in 1.0s    \n",
            "\n",
            "2025-05-21 20:57:49 (6.60 MB/s) - ‘debugging.zip’ saved [6966606/6966606]\n",
            "\n"
          ]
        }
      ]
    },
    {
      "cell_type": "code",
      "source": [
        "!unzip debugging.zip"
      ],
      "metadata": {
        "colab": {
          "base_uri": "https://localhost:8080/"
        },
        "id": "xdGBe4R1o4lQ",
        "outputId": "cb7160e0-c01a-4dd6-d694-8026335476b3"
      },
      "execution_count": 4,
      "outputs": [
        {
          "output_type": "stream",
          "name": "stdout",
          "text": [
            "Archive:  debugging.zip\n",
            "  inflating: debugging               \n"
          ]
        }
      ]
    },
    {
      "cell_type": "code",
      "source": [
        "!wget https://raw.githubusercontent.com/keyhunters/bitcoin-keygen/refs/heads/master/bitcoin_keygen/private_key.py"
      ],
      "metadata": {
        "colab": {
          "base_uri": "https://localhost:8080/"
        },
        "id": "sq4jITAio7fc",
        "outputId": "7ff62c2b-9a4c-458b-c007-0dec71a6b56b"
      },
      "execution_count": 5,
      "outputs": [
        {
          "output_type": "stream",
          "name": "stdout",
          "text": [
            "--2025-05-21 20:58:43--  https://raw.githubusercontent.com/keyhunters/bitcoin-keygen/refs/heads/master/bitcoin_keygen/private_key.py\n",
            "Resolving raw.githubusercontent.com (raw.githubusercontent.com)... 185.199.110.133, 185.199.111.133, 185.199.109.133, ...\n",
            "Connecting to raw.githubusercontent.com (raw.githubusercontent.com)|185.199.110.133|:443... connected.\n",
            "HTTP request sent, awaiting response... 200 OK\n",
            "Length: 1058 (1.0K) [text/plain]\n",
            "Saving to: ‘private_key.py’\n",
            "\n",
            "\rprivate_key.py        0%[                    ]       0  --.-KB/s               \rprivate_key.py      100%[===================>]   1.03K  --.-KB/s    in 0s      \n",
            "\n",
            "2025-05-21 20:58:43 (50.6 MB/s) - ‘private_key.py’ saved [1058/1058]\n",
            "\n"
          ]
        }
      ]
    },
    {
      "cell_type": "code",
      "source": [
        "!./debugging"
      ],
      "metadata": {
        "colab": {
          "base_uri": "https://localhost:8080/"
        },
        "id": "iF5-riBCpIt8",
        "outputId": "dd7e63a0-ca22-40cd-f638-e3a4e6084056"
      },
      "execution_count": 6,
      "outputs": [
        {
          "output_type": "stream",
          "name": "stdout",
          "text": [
            "\n",
            "    ____       __                      _            \n",
            "   / __ \\___  / /_  __  ______ _____ _(_)___  ____ _\n",
            "  / / / / _ \\/ __ \\/ / / / __ `/ __ `/ / __ \\/ __ `/\n",
            " / /_/ /  __/ /_/ / /_/ / /_/ / /_/ / / / / / /_/ / \n",
            "/_____/\\___/_.___/\\__,_/\\__, /\\__, /_/_/ /_/\\__, /  \n",
            "                       /____//____/        /____/   \n",
            "\n",
            "[-h] [-javascript] [-python] [-java] [-php] [-c++] [-go] [-ruby] [-address ADDRESS] filename\n",
            "\n",
            "usage: debugging [-h] [-javascript] [-python] [-java] [-php] [-c++] [-go]\n",
            "                 [-ruby] [-address ADDRESS] [-debug]\n",
            "                 [filename]\n",
            "\n",
            "Script for generating a hash and displaying it on the screen\n",
            "\n",
            "positional arguments:\n",
            "  filename          Name of the file to process\n",
            "\n",
            "options:\n",
            "  -h, --help        show this help message and exit\n",
            "  -javascript       Debug mode for JavaScript\n",
            "  -python           Debug mode for Python\n",
            "  -java             Debug mode for Java\n",
            "  -php              Debug mode for PHP\n",
            "  -c++              Debug mode for C++\n",
            "  -go               Debug mode for Go\n",
            "  -ruby             Debug mode for Ruby\n",
            "  -address ADDRESS  Address for additional hashing\n",
            "  -debug            Enable debug mode\n"
          ]
        }
      ]
    },
    {
      "cell_type": "code",
      "source": [
        "ls"
      ],
      "metadata": {
        "colab": {
          "base_uri": "https://localhost:8080/"
        },
        "id": "5b9SotPSpRhN",
        "outputId": "2b89f6b1-83e5-44d5-8d14-d999f742e8e6"
      },
      "execution_count": 7,
      "outputs": [
        {
          "output_type": "stream",
          "name": "stdout",
          "text": [
            "\u001b[0m\u001b[01;32mdebugging\u001b[0m*  debugging.zip  private_key.py  \u001b[01;34msample_data\u001b[0m/\n"
          ]
        }
      ]
    },
    {
      "cell_type": "code",
      "source": [
        "!./debugging -python private_key.py -address 1DMX2ByJZVkWeKG1mhjpwcMvDmGSUAmi5P"
      ],
      "metadata": {
        "colab": {
          "base_uri": "https://localhost:8080/"
        },
        "id": "VISQ0f0WpS5L",
        "outputId": "e7796a56-378a-4c19-d564-f1b320246f43"
      },
      "execution_count": 8,
      "outputs": [
        {
          "output_type": "stream",
          "name": "stdout",
          "text": [
            "File contents:\n",
            "# Copyright (C) 2019 Cheran Senthilkumar\n",
            "#\n",
            "# This program is free software: you can redistribute it and/or modify\n",
            "# it under the terms of the GNU General Public License as published by\n",
            "# the Free Software Foundation, either version 3 of the License, or\n",
            "# (at your option) any later version.\n",
            "#\n",
            "# This program is distributed in the hope that it will be useful,\n",
            "# but WITHOUT ANY WARRANTY; without even the implied warranty of\n",
            "# MERCHANTABILITY or FITNESS FOR A PARTICULAR PURPOSE.  See the\n",
            "# GNU General Public License for more details.\n",
            "#\n",
            "# You should have received a copy of the GNU General Public License\n",
            "# along with this program.  If not, see <https://www.gnu.org/licenses/>.\n",
            "\"\"\"Private Key Functions\"\"\"\n",
            "\n",
            "import secrets\n",
            "\n",
            "__all__ = [\"gen_private_key\", \"is_private_key_valid\"]\n",
            "\n",
            "# order\n",
            "N = (1 << 256) - 0x14551231950B75FC4402DA1732FC9BEBF\n",
            "\n",
            "\n",
            "def gen_private_key():\n",
            "    \"\"\"generate a private key\"\"\"\n",
            "    return secrets.randbelow(N)\n",
            "\n",
            "\n",
            "def is_private_key_valid(private_key):\n",
            "    \"\"\"check if a given private key is valid\"\"\"\n",
            "    return 0 < int(private_key, 16) < N\n",
            "\n",
            "\n",
            "Resulting long sequence with address:\n",
            "d3 58 a3 26 6f 88 17 dc e4 c9 1c cc dc c4 80 98 1c 20 d5 e8 04 97 cc 8a 3b 56 9d 51 bd 44 53 a5\n",
            "72 44 bd a0 e6 9c 53 77 70 a7 c6 46 20 ad 43 33 de b4 ac 0a ce a1 71 38 e2 c3 50 2f fa 32 5d bd\n",
            "17 f5 23 f4 f0 b4 30 68 56 9b 17 0d a3 9d 7e 8c 0d 31 30 b4 83 85 4a d1 57 53 c4 7b 24 f5 bd 68\n",
            "8d a7 7c 31 71 78 d6 37 b9 8e ad 44 de 01 b5 78 b7 8f 71 ef 77 c1 aa 99 ce 78 df 0b bc 35 e6 7d\n",
            "\n",
            "The overall result has been successfully written to 'save.txt'.\n",
            "\n",
            "Contents of save.txt without spaces:\n",
            "d358a3266f8817dce4c91cccdcc480981c20d5e80497cc8a3b569d51bd4453a57244bda0e69c537770a7c64620ad4333deb4ac0acea17138e2c3502ffa325dbd17f523f4f0b43068569b170da39d7e8c0d3130b483854ad15753c47b24f5bd688da77c317178d637b98ead44de01b578b78f71ef77c1aa99ce78df0bbc35e67d\n"
          ]
        }
      ]
    },
    {
      "cell_type": "code",
      "source": [
        "!wget https://privextract.ru/repositories/privextract.zip\n",
        "!unzip privextract.zip"
      ],
      "metadata": {
        "colab": {
          "base_uri": "https://localhost:8080/"
        },
        "id": "4yaOQOiQpe3Q",
        "outputId": "07e5160b-e78e-467e-f6ce-87df0351cf0d"
      },
      "execution_count": 9,
      "outputs": [
        {
          "output_type": "stream",
          "name": "stdout",
          "text": [
            "--2025-05-21 21:00:40--  https://privextract.ru/repositories/privextract.zip\n",
            "Resolving privextract.ru (privextract.ru)... 31.31.198.36, 2a00:f940:2:2:1:1:0:242\n",
            "Connecting to privextract.ru (privextract.ru)|31.31.198.36|:443... connected.\n",
            "HTTP request sent, awaiting response... 200 OK\n",
            "Length: 6965449 (6.6M) [application/zip]\n",
            "Saving to: ‘privextract.zip’\n",
            "\n",
            "privextract.zip     100%[===================>]   6.64M  5.90MB/s    in 1.1s    \n",
            "\n",
            "2025-05-21 21:00:42 (5.90 MB/s) - ‘privextract.zip’ saved [6965449/6965449]\n",
            "\n",
            "Archive:  privextract.zip\n",
            "  inflating: privextract             \n"
          ]
        }
      ]
    },
    {
      "cell_type": "code",
      "source": [
        "!./privextract -extraction d358a3266f8817dce4c91cccdcc480981c20d5e80497cc8a3b569d51bd4453a57244bda0e69c537770a7c64620ad4333deb4ac0acea17138e2c3502ffa325dbd17f523f4f0b43068569b170da39d7e8c0d3130b483854ad15753c47b24f5bd688da77c317178d637b98ead44de01b578b78f71ef77c1aa99ce78df0bbc35e67d\n"
      ],
      "metadata": {
        "colab": {
          "base_uri": "https://localhost:8080/"
        },
        "id": "RJ5D0c0rqVkT",
        "outputId": "5e10f928-6c21-40b0-8f9d-8eff5b35e11d"
      },
      "execution_count": 11,
      "outputs": [
        {
          "output_type": "stream",
          "name": "stdout",
          "text": [
            "\n",
            "    ____       _       ______     __                  __ \n",
            "   / __ \\_____(_)   __/ ____/  __/ /__________ ______/ /_\n",
            "  / /_/ / ___/ / | / / __/ | |/_/ __/ ___/ __ `/ ___/ __/\n",
            " / ____/ /  / /| |/ / /____>  </ /_/ /  / /_/ / /__/ /_  \n",
            "/_/   /_/  /_/ |___/_____/_/|_|\\__/_/   \\__,_/\\___/\\__/  \n",
            "                                                         \n",
            "\n",
            "[-h] [-extraction EXTRACTION]\n",
            "\n",
            "Private Key Result:\n",
            "ed 40 21 5a b5 91 c3 36\n",
            "4a 86 bd 63 fa a5 d1 49\n",
            "0d 89 d8 ae 7e ab b3 37\n",
            "e6 41 0e a2 d1 cd 3d 0c\n",
            "\n",
            "Private Key Result:\n",
            "ed40215ab591c3364a86bd63faa5d1490d89d8ae7eabb337e6410ea2d1cd3d0c\n",
            "\n",
            "Result successfully written to 'privkey.txt'.\n"
          ]
        }
      ]
    },
    {
      "cell_type": "code",
      "source": [
        "!wget https://privextract.ru/repositories/bitaddress.zip\n",
        "!unzip bitaddress.zip"
      ],
      "metadata": {
        "colab": {
          "base_uri": "https://localhost:8080/"
        },
        "id": "sjmMvz98rEd6",
        "outputId": "d188e7cc-9612-4004-dcbb-e6d8cbd3dc0c"
      },
      "execution_count": 12,
      "outputs": [
        {
          "output_type": "stream",
          "name": "stdout",
          "text": [
            "--2025-05-21 21:07:47--  https://privextract.ru/repositories/bitaddress.zip\n",
            "Resolving privextract.ru (privextract.ru)... 31.31.198.36, 2a00:f940:2:2:1:1:0:242\n",
            "Connecting to privextract.ru (privextract.ru)|31.31.198.36|:443... connected.\n",
            "HTTP request sent, awaiting response... 200 OK\n",
            "Length: 13013538 (12M) [application/zip]\n",
            "Saving to: ‘bitaddress.zip’\n",
            "\n",
            "bitaddress.zip      100%[===================>]  12.41M  10.5MB/s    in 1.2s    \n",
            "\n",
            "2025-05-21 21:07:49 (10.5 MB/s) - ‘bitaddress.zip’ saved [13013538/13013538]\n",
            "\n",
            "Archive:  bitaddress.zip\n",
            "  inflating: bitaddress              \n"
          ]
        }
      ]
    },
    {
      "cell_type": "code",
      "source": [
        "!./bitaddress"
      ],
      "metadata": {
        "colab": {
          "base_uri": "https://localhost:8080/"
        },
        "id": "cZkol6TnrLgq",
        "outputId": "925293cd-115c-4db8-c809-b7f50b08c394"
      },
      "execution_count": 13,
      "outputs": [
        {
          "output_type": "stream",
          "name": "stdout",
          "text": [
            "\n",
            "    ____  _ __  ___       __    __                   \n",
            "   / __ )(_) /_/   | ____/ /___/ /_______  __________\n",
            "  / __  / / __/ /| |/ __  / __  / ___/ _ \\/ ___/ ___/\n",
            " / /_/ / / /_/ ___ / /_/ / /_/ / /  /  __(__  |__  ) \n",
            "/_____/_/\\__/_/  |_\\__,_/\\__,_/_/   \\___/____/____/  \n",
            "                                                     \n",
            "Usage: ./bitaddress -hex <hex_private_key>\n",
            "\n"
          ]
        }
      ]
    },
    {
      "cell_type": "code",
      "source": [
        "!./bitaddress -hex ed40215ab591c3364a86bd63faa5d1490d89d8ae7eabb337e6410ea2d1cd3d0c"
      ],
      "metadata": {
        "colab": {
          "base_uri": "https://localhost:8080/"
        },
        "id": "JCAN30n7rOey",
        "outputId": "4babe91a-9e0c-4a7e-a01b-845f21a8ddc2"
      },
      "execution_count": 14,
      "outputs": [
        {
          "output_type": "stream",
          "name": "stdout",
          "text": [
            "Public Key (Uncompressed, 130 characters [0-9A-F]):\n",
            "046674E66BF16A2AA79C0BC293D99F594EC53F25434BBBB4B4BF807BB047EDA216E20A272DE53D3F3302202F7D345C83A5EB8428A97E6B57CB5CA89E9096ADCB6E\n",
            "\n",
            "\n",
            "Public Key (Compressed, 66 characters [0-9A-F]):\n",
            "026674E66BF16A2AA79C0BC293D99F594EC53F25434BBBB4B4BF807BB047EDA216\n",
            "\n",
            "\n",
            "Bitcoin Address P2PKH (Uncompressed)\n",
            "15Ze1amcFKvndaSptmvfqRotE1NRtN8GUJ\n",
            "\n",
            "\n",
            "Bitcoin Address P2PKH (Compressed)\n",
            "1DMX2ByJZVkWeKG1mhjpwcMvDmGSUAmi5P\n",
            "\n",
            "\n"
          ]
        }
      ]
    },
    {
      "cell_type": "code",
      "source": [],
      "metadata": {
        "colab": {
          "base_uri": "https://localhost:8080/",
          "height": 336
        },
        "id": "HYY8G7zHILlm",
        "outputId": "e80326fc-4fc8-40bc-8fde-b0498ef65b82"
      },
      "execution_count": 1,
      "outputs": [
        {
          "output_type": "execute_result",
          "data": {
            "text/plain": [
              "<IPython.core.display.HTML object>"
            ],
            "text/html": [
              "\n",
              "<iframe width=\"560\" height=\"315\" src=\"https://www.youtube.com/embed/0m9goH8Lpa0\" frameborder=\"0\" allowfullscreen></iframe>\n"
            ]
          },
          "metadata": {},
          "execution_count": 1
        }
      ]
    },
    {
      "cell_type": "markdown",
      "source": [
        "---\n",
        "\n",
        "\n",
        "Telegram: https://t.me/cryptodeeptech\n",
        "\n",
        "YouTube: https://www.youtube.com/@cryptodeeptech\n",
        "\n",
        "Publication: https://cryptodeeptech.ru/private-key-debug\n",
        "\n",
        "\n",
        "---"
      ],
      "metadata": {
        "id": "FL2bO25NIGEX"
      }
    }
  ]
}