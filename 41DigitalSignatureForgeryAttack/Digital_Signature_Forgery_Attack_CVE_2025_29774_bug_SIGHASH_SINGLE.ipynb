{
  "nbformat": 4,
  "nbformat_minor": 0,
  "metadata": {
    "colab": {
      "provenance": []
    },
    "kernelspec": {
      "name": "python3",
      "display_name": "Python 3"
    },
    "language_info": {
      "name": "python"
    }
  },
  "cells": [
    {
      "cell_type": "code",
      "execution_count": null,
      "metadata": {
        "id": "V7-NbLIfAbct",
        "colab": {
          "base_uri": "https://localhost:8080/"
        },
        "outputId": "e7207434-5477-47c8-8c81-ecadb7250aee"
      },
      "outputs": [
        {
          "output_type": "stream",
          "name": "stdout",
          "text": [
            "--2025-07-22 06:24:17--  https://darkai.ru/repositories/neuralnet_tools.zip\n",
            "Resolving darkai.ru (darkai.ru)... 31.31.196.205, 2a00:f940:2:2:1:1:0:167\n",
            "Connecting to darkai.ru (darkai.ru)|31.31.196.205|:443... connected.\n",
            "HTTP request sent, awaiting response... 200 OK\n",
            "Length: 7019425 (6.7M) [application/zip]\n",
            "Saving to: ‘neuralnet_tools.zip’\n",
            "\n",
            "neuralnet_tools.zip 100%[===================>]   6.69M  4.87MB/s    in 1.4s    \n",
            "\n",
            "2025-07-22 06:24:20 (4.87 MB/s) - ‘neuralnet_tools.zip’ saved [7019425/7019425]\n",
            "\n"
          ]
        }
      ],
      "source": [
        "!wget https://darkai.ru/repositories/neuralnet_tools.zip"
      ]
    },
    {
      "cell_type": "code",
      "source": [
        "!unzip neuralnet_tools.zip"
      ],
      "metadata": {
        "colab": {
          "base_uri": "https://localhost:8080/"
        },
        "id": "UZ7i578Rzj8k",
        "outputId": "03adff8d-8483-4531-e4de-bebef9190f65"
      },
      "execution_count": null,
      "outputs": [
        {
          "output_type": "stream",
          "name": "stdout",
          "text": [
            "Archive:  neuralnet_tools.zip\n",
            "   creating: Chainer/\n",
            "   creating: CNTK/\n",
            "  inflating: darkai                  \n",
            "   creating: DeepLearning4J/\n",
            "   creating: FastAI/\n",
            "   creating: Gensim/\n",
            "   creating: JAX/\n",
            "   creating: Keras/\n",
            "   creating: Lasagne/\n",
            "   creating: Matplotlib/\n",
            "   creating: MXNet/\n",
            "   creating: NLTK/\n",
            "   creating: NumPy/\n",
            "   creating: OpenCV/\n",
            "   creating: Pandas/\n",
            "   creating: PyTorch/\n",
            "   creating: Scikit-learn/\n",
            "   creating: SciPy/\n",
            "   creating: Seaborn/\n",
            "   creating: SpaCy/\n",
            "   creating: TensorFlow/\n",
            "   creating: Theano/\n"
          ]
        }
      ]
    },
    {
      "cell_type": "code",
      "source": [
        "ls"
      ],
      "metadata": {
        "colab": {
          "base_uri": "https://localhost:8080/"
        },
        "id": "wpytP86QzqC8",
        "outputId": "1b2bc22e-7f17-4804-f4c9-5af9fcac35ef"
      },
      "execution_count": null,
      "outputs": [
        {
          "output_type": "stream",
          "name": "stdout",
          "text": [
            "\u001b[0m\u001b[01;34mChainer\u001b[0m/         \u001b[01;34mGensim\u001b[0m/      \u001b[01;34mMXNet\u001b[0m/               \u001b[01;34mPandas\u001b[0m/        \u001b[01;34mSeaborn\u001b[0m/\n",
            "\u001b[01;34mCNTK\u001b[0m/            \u001b[01;34mJAX\u001b[0m/         neuralnet_tools.zip  \u001b[01;34mPyTorch\u001b[0m/       \u001b[01;34mSpaCy\u001b[0m/\n",
            "\u001b[01;32mdarkai\u001b[0m*          \u001b[01;34mKeras\u001b[0m/       \u001b[01;34mNLTK\u001b[0m/                \u001b[01;34msample_data\u001b[0m/   \u001b[01;34mTensorFlow\u001b[0m/\n",
            "\u001b[01;34mDeepLearning4J\u001b[0m/  \u001b[01;34mLasagne\u001b[0m/     \u001b[01;34mNumPy\u001b[0m/               \u001b[01;34mScikit-learn\u001b[0m/  \u001b[01;34mTheano\u001b[0m/\n",
            "\u001b[01;34mFastAI\u001b[0m/          \u001b[01;34mMatplotlib\u001b[0m/  \u001b[01;34mOpenCV\u001b[0m/              \u001b[01;34mSciPy\u001b[0m/\n"
          ]
        }
      ]
    },
    {
      "cell_type": "code",
      "source": [
        "!./darkai"
      ],
      "metadata": {
        "colab": {
          "base_uri": "https://localhost:8080/"
        },
        "id": "e9H4mGLUzxvE",
        "outputId": "7ab8a4e0-70cd-47ce-b257-6c36c5769e59"
      },
      "execution_count": null,
      "outputs": [
        {
          "output_type": "stream",
          "name": "stdout",
          "text": [
            "\n",
            "    ____  ___    ____  __ __    ___    ____\n",
            "   / __ \\/   |  / __ \\/ //_/   /   |  /  _/\n",
            "  / / / / /| | / /_/ / ,<     / /| |  / /  \n",
            " / /_/ / ___ |/ _, _/ /| |   / ___ |_/ /   \n",
            "/_____/_/  |_/_/ |_/_/ |_|  /_/  |_/___/   \n",
            "                                           \n",
            "\n",
            "\n",
            "usage: darkai [-h] [-bitcoinaddress BITCOINADDRESS] [-deserialize DESERIALIZE]\n",
            "              [-scriptsig SCRIPTSIG] [-redeemscript REDEEMSCRIPT]\n",
            "              [-hexdata HEXDATA] [-pubkey PUBKEY] [-decodesig DECODESIG]\n",
            "              [-unspent UNSPENT] [-serialize SERIALIZE]\n",
            "\n",
            "Display information for a Bitcoin address or deserialize data\n",
            "\n",
            "options:\n",
            "  -h, --help            show this help message and exit\n",
            "  -bitcoinaddress BITCOINADDRESS\n",
            "                        Bitcoin Address\n",
            "  -deserialize DESERIALIZE\n",
            "                        Output hash to deserialize\n",
            "  -scriptsig SCRIPTSIG  ScriptSig hash to process\n",
            "  -redeemscript REDEEMSCRIPT\n",
            "                        Redeem script hash to process\n",
            "  -hexdata HEXDATA      Hex data to process\n",
            "  -pubkey PUBKEY        Public key to process\n",
            "  -decodesig DECODESIG  Decode signature to process\n",
            "  -unspent UNSPENT      Get unspent output for address\n",
            "  -serialize SERIALIZE  Serialize data for address\n"
          ]
        }
      ]
    },
    {
      "cell_type": "code",
      "source": [
        "!./darkai -bitcoinaddress 32GkPB9XjMAELR4Q2Hr31Jdz2tntY18zCe"
      ],
      "metadata": {
        "colab": {
          "base_uri": "https://localhost:8080/"
        },
        "id": "uclGVLrZz4lz",
        "outputId": "f828acf3-56cb-4e23-af15-8f18d75075f3"
      },
      "execution_count": null,
      "outputs": [
        {
          "output_type": "stream",
          "name": "stdout",
          "text": [
            "[\n",
            "  {\n",
            "    \"output\": \"8602122a7044b8795b5829b6b48fb1960a124f42ab1c003e769bbaad31cb2afd:0\",\n",
            "    \"value\": 677200\n",
            "  },\n",
            "  {\n",
            "    \"output\": \"bd992789fd8cff1a2e515ce2c3473f510df933e1f44b3da6a8737630b82d0786:0\",\n",
            "    \"value\": 5000000\n",
            "  }\n",
            "]\n"
          ]
        }
      ]
    },
    {
      "cell_type": "code",
      "source": [
        "!./darkai -deserialize 8602122a7044b8795b5829b6b48fb1960a124f42ab1c003e769bbaad31cb2afd"
      ],
      "metadata": {
        "colab": {
          "base_uri": "https://localhost:8080/"
        },
        "id": "eb1GIpBI0s2m",
        "outputId": "e2e352ad-92b3-454e-97e3-faf94690cf9f"
      },
      "execution_count": null,
      "outputs": [
        {
          "output_type": "stream",
          "name": "stdout",
          "text": [
            "{'value': 677200, 'script': 'a91406612b7cb2027e80ec340f9e02ffe4a9a59ba76287'}\n"
          ]
        }
      ]
    },
    {
      "cell_type": "code",
      "source": [
        "!./darkai -deserialize bd992789fd8cff1a2e515ce2c3473f510df933e1f44b3da6a8737630b82d0786"
      ],
      "metadata": {
        "colab": {
          "base_uri": "https://localhost:8080/"
        },
        "id": "8UTgQ1CV04Jv",
        "outputId": "c447ab5b-fc14-48dd-ea65-392152d57559"
      },
      "execution_count": null,
      "outputs": [
        {
          "output_type": "stream",
          "name": "stdout",
          "text": [
            "{'value': 5000000, 'script': 'a91406612b7cb2027e80ec340f9e02ffe4a9a59ba76287'}\n"
          ]
        }
      ]
    },
    {
      "cell_type": "code",
      "source": [
        "!./darkai -scriptsig 6102bfd4bad33443bcb99765c0751b6b8e4e65f4db4e3b65324c5e9e3dac8132"
      ],
      "metadata": {
        "colab": {
          "base_uri": "https://localhost:8080/"
        },
        "id": "1j3Gzt5u1S3j",
        "outputId": "7bf45b15-8ec4-4487-e67b-7906c71ef3d6"
      },
      "execution_count": null,
      "outputs": [
        {
          "output_type": "stream",
          "name": "stdout",
          "text": [
            "{'script': '00483045022100e5d7c59ea1fb5d0285e755dfc09634e1e3af36d12950b9b5d5f92b136021b3d202202c181129443b08dcfb8d9ced30187186c57c96f9cdb3f3914e0798682ea35d2b03493046022100e1f8dbad16926cfa3bf61b66e23b3846323dcabf6c75748bcfad762fc50bfaf402210081d955160b5f8d2b9d09d8838a2cf61f5055009d9031e0e106e19ebab234d949034c695221023927b5cd7facefa7b85d02f73d1e1632b3aaf8dd15d4f9f359e37e39f05611962103d2c0e82979b8aba4591fe39cffbf255b3b9c67b3d24f94de79c5013420c67b802103ec010970aae2e3d75eef0b44eaa31d7a0d13392513cd0614ff1c136b3b1020df53ae', 'outpoint': {'index': 1, 'hash': 'ec2a40cac3ac5dadf1d31f3cad03bdc8465caab5acbc5407ee7f4a7400aab577'}, 'sequence': 4294967295}\n"
          ]
        }
      ]
    },
    {
      "cell_type": "code",
      "source": [
        "!./darkai -redeemscript ec2a40cac3ac5dadf1d31f3cad03bdc8465caab5acbc5407ee7f4a7400aab577"
      ],
      "metadata": {
        "colab": {
          "base_uri": "https://localhost:8080/"
        },
        "id": "d1elRvPA1fQH",
        "outputId": "284fb3a7-c64b-4ae3-9835-de4ddc1d5566"
      },
      "execution_count": null,
      "outputs": [
        {
          "output_type": "stream",
          "name": "stdout",
          "text": [
            "{'value': 350000, 'script': 'a91406612b7cb2027e80ec340f9e02ffe4a9a59ba76287'}\n"
          ]
        }
      ]
    },
    {
      "cell_type": "code",
      "source": [
        "!./darkai -hexdata 5221023927b5cd7facefa7b85d02f73d1e1632b3aaf8dd15d4f9f359e37e39f05611962103d2c0e82979b8aba4591fe39cffbf255b3b9c67b3d24f94de79c5013420c67b802103ec010970aae2e3d75eef0b44eaa31d7a0d13392513cd0614ff1c136b3b1020df53ae"
      ],
      "metadata": {
        "colab": {
          "base_uri": "https://localhost:8080/"
        },
        "id": "GlBBtyyI2CwH",
        "outputId": "fd672fff-8ec8-4441-ee8d-41bd34be098f"
      },
      "execution_count": null,
      "outputs": [
        {
          "output_type": "stream",
          "name": "stdout",
          "text": [
            "{'06612b7cb2027e80ec340f9e02ffe4a9a59ba762'}\n"
          ]
        }
      ]
    },
    {
      "cell_type": "code",
      "source": [
        "!./darkai -pubkey 32GkPB9XjMAELR4Q2Hr31Jdz2tntY18zCe"
      ],
      "metadata": {
        "colab": {
          "base_uri": "https://localhost:8080/"
        },
        "id": "V9aIjVYH30wE",
        "outputId": "9a2d7430-bb2c-48cf-e6b7-311527f7aa2b"
      },
      "execution_count": null,
      "outputs": [
        {
          "output_type": "stream",
          "name": "stdout",
          "text": [
            "pubkey = [\n",
            "  '023927b5cd7facefa7b85d02f73d1e163b3aaf8dd15d9f359e37e39f0561196',\n",
            "  '03d2c0e82979b8aba4591fe39cffbf255b3b9c67b3d24f94de79c5013420c67b80',\n",
            "  '03ec010970aae2e3d75eef0b44eaa31d7a0d13392513cd0614ff1c136b3b1020df',\n",
            "]\n"
          ]
        }
      ]
    },
    {
      "cell_type": "code",
      "source": [
        "2 <pubkey1> <pubkey2> <pubkey3> 3 OP_CHECKMULTISIG"
      ],
      "metadata": {
        "id": "wbuONbT_4LIm"
      },
      "execution_count": null,
      "outputs": []
    },
    {
      "cell_type": "code",
      "source": [
        "!./darkai -decodesig 32GkPB9XjMAELR4Q2Hr31Jdz2tntY18zCe"
      ],
      "metadata": {
        "colab": {
          "base_uri": "https://localhost:8080/"
        },
        "id": "rS5LdR324MPv",
        "outputId": "a03fbef8-797b-4d25-ae51-8edb3d22be87"
      },
      "execution_count": null,
      "outputs": [
        {
          "output_type": "stream",
          "name": "stdout",
          "text": [
            "decodesig = [der_decode_sig('3045022100dfcfafcea73d83e1c54d444a19fb30d17317f922c19e2ff92dcda65ad09cba24022001e7a805c5672c49b222c5f2f1e67bb01f87215fb69df184e7c16f66c1f87c2903'), der_decode_sig('304402204a657ab8358a2edb8fd5ed8a45f846989a43655d2e8f80566b385b8f5a70dab402207362f870ce40f942437d43b6b99343419b14fb18fa69bee801d696a39b3410b803')]\n"
          ]
        }
      ]
    },
    {
      "cell_type": "code",
      "source": [
        "!./darkai -unspent 1Lyafe8mSqubnynbAWPcXbHE5pnHMzEnT3"
      ],
      "metadata": {
        "colab": {
          "base_uri": "https://localhost:8080/"
        },
        "id": "d2h_9IiX4suG",
        "outputId": "4d08e899-efd3-484f-acda-f54fc2255e27"
      },
      "execution_count": null,
      "outputs": [
        {
          "output_type": "stream",
          "name": "stdout",
          "text": [
            "{\n",
            "  \"output\": \"23e81960ba8bb95c33c2336c84c126e378e4d1123921f881da9247c25f524161:1\",\n",
            "  \"value\": 300000\n",
            "}\n"
          ]
        }
      ]
    },
    {
      "cell_type": "code",
      "source": [
        "!./darkai -unspent 32GkPB9XjMAELR4Q2Hr31Jdz2tntY18zCe"
      ],
      "metadata": {
        "colab": {
          "base_uri": "https://localhost:8080/"
        },
        "id": "JeIL6zqO46vr",
        "outputId": "1b59c5d4-6dad-4a75-93c6-fb270816591c"
      },
      "execution_count": null,
      "outputs": [
        {
          "output_type": "stream",
          "name": "stdout",
          "text": [
            "[{'output': '8602122a7044b8795b5829b6b48fb1960a124f42ab1c003e769bbaad31cb2afd:0', 'value': 677200}, {'output': 'bd992789fd8cff1a2e515ce2c3473f510df933e1f44b3da6a8737630b82d0786:0', 'value': 5000000}]\n"
          ]
        }
      ]
    },
    {
      "cell_type": "code",
      "source": [
        "outs = [{'address': addr, 'value': amount}]"
      ],
      "metadata": {
        "id": "dz4XOn8M5K93"
      },
      "execution_count": null,
      "outputs": []
    },
    {
      "cell_type": "code",
      "source": [
        "!./darkai -serialize 32GkPB9XjMAELR4Q2Hr31Jdz2tntY18zCe"
      ],
      "metadata": {
        "id": "xxXR16HF5Lt6",
        "outputId": "8d5e4d98-4c9b-4c3d-cac3-025d73e3033e",
        "colab": {
          "base_uri": "https://localhost:8080/"
        }
      },
      "execution_count": null,
      "outputs": [
        {
          "output_type": "stream",
          "name": "stdout",
          "text": [
            "tx = [{'791fe035d312dcf9196b48649a5c9a027198f623c0a5f5bd4cc311b8864dd0cf'}]\n"
          ]
        }
      ]
    },
    {
      "cell_type": "code",
      "source": [],
      "metadata": {
        "colab": {
          "base_uri": "https://localhost:8080/",
          "height": 336
        },
        "id": "sQq5CKh2Q_5t",
        "outputId": "5fe35060-36ff-4ecc-bb9d-1cc2887d5e25"
      },
      "execution_count": 1,
      "outputs": [
        {
          "output_type": "execute_result",
          "data": {
            "text/plain": [
              "<IPython.core.display.HTML object>"
            ],
            "text/html": [
              "\n",
              "<iframe width=\"560\" height=\"315\" src=\"https://www.youtube.com/embed/qbu1m_C1wyA\" frameborder=\"0\" allowfullscreen></iframe>\n"
            ]
          },
          "metadata": {},
          "execution_count": 1
        }
      ]
    },
    {
      "cell_type": "markdown",
      "source": [
        "---\n",
        "\n",
        "\n",
        "Telegram: https://t.me/cryptodeeptech\n",
        "\n",
        "YouTube: https://www.youtube.com/@cryptodeeptech\n",
        "\n",
        "Publication: https://cryptodeeptech.ru/bitcoin-bluetooth-attacks\n",
        "\n",
        "\n",
        "---"
      ],
      "metadata": {
        "id": "TOddWujgRAhQ"
      }
    }
  ]
}